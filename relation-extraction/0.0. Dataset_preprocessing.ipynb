{
 "cells": [
  {
   "cell_type": "markdown",
   "metadata": {},
   "source": [
    "# Dataset preprocessing for Relation Extraction"
   ]
  },
  {
   "cell_type": "markdown",
   "metadata": {},
   "source": [
    "### Steps to follow:\n",
    "\n",
    "#### 1. Load the dataset and use ast library to preserve the data types\n",
    "\n",
    "##### 1.1. Create a copy of the dataset to work with\n",
    "\n",
    "#### 2. Extract sentences, entity pairs and labels\n",
    "\n",
    "#### 3. Mask the entity objetives for each sentences based on entity pairs field & create the prompt estructure for each of the sentence\n",
    "\n",
    "#### 4. Save the prompt copy in JSON format to train."
   ]
  },
  {
   "cell_type": "markdown",
   "metadata": {},
   "source": [
    "## 1. Load the daset and use ast library to preserve the data types\n",
    "### 1.1. Create a copy if the dataset to work with"
   ]
  },
  {
   "cell_type": "code",
   "execution_count": 1,
   "metadata": {},
   "outputs": [],
   "source": [
    "import pandas as pd\n",
    "import numpy as np\n",
    "import ast\n",
    "import regex as re\n",
    "import json\n",
    "from prompt_processing import process_re_prompt, process_re_prompt_blackbox"
   ]
  },
  {
   "cell_type": "code",
   "execution_count": 2,
   "metadata": {},
   "outputs": [],
   "source": [
    "df = pd.read_csv('/home/tensorboard/Documentos/1. D4R/Relation extraction/Relations_Diego_Corrections_14-02-24_Version_2(1).csv')\n",
    "df_to_work = df.copy()\n",
    "df_to_work['Phrase_tokenized'] = df_to_work['Phrase_tokenized'].apply(ast.literal_eval)\n",
    "df_to_work = df_to_work.drop('Unnamed: 0', axis=1)"
   ]
  },
  {
   "cell_type": "markdown",
   "metadata": {},
   "source": [
    "## 2. Extract sentences, entity pairs and labels"
   ]
  },
  {
   "cell_type": "code",
   "execution_count": 3,
   "metadata": {},
   "outputs": [],
   "source": [
    "df_reduced = df_to_work.copy()\n",
    "\n",
    "df_reduced = df_reduced[['Sentence', 'Number_of_entities', 'Entity_1', 'Entity_2', 'Entity_1_type', 'Entity_2_type', 'Relations']]\n",
    "\n",
    "df_reduced = df_reduced.rename(columns={'Relations': 'Label'})"
   ]
  },
  {
   "cell_type": "code",
   "execution_count": 4,
   "metadata": {},
   "outputs": [
    {
     "data": {
      "text/plain": [
       "{'ORG', 'PERSON', 'PERSON_REFERENCE', 'PLACE'}"
      ]
     },
     "execution_count": 4,
     "metadata": {},
     "output_type": "execute_result"
    }
   ],
   "source": [
    "specifics = set(df_reduced['Entity_1_type'].values.tolist())\n",
    "specifics"
   ]
  },
  {
   "cell_type": "code",
   "execution_count": 5,
   "metadata": {},
   "outputs": [
    {
     "data": {
      "text/html": [
       "<div>\n",
       "<style scoped>\n",
       "    .dataframe tbody tr th:only-of-type {\n",
       "        vertical-align: middle;\n",
       "    }\n",
       "\n",
       "    .dataframe tbody tr th {\n",
       "        vertical-align: top;\n",
       "    }\n",
       "\n",
       "    .dataframe thead th {\n",
       "        text-align: right;\n",
       "    }\n",
       "</style>\n",
       "<table border=\"1\" class=\"dataframe\">\n",
       "  <thead>\n",
       "    <tr style=\"text-align: right;\">\n",
       "      <th></th>\n",
       "      <th>Sentence</th>\n",
       "      <th>Number_of_entities</th>\n",
       "      <th>Entity_1</th>\n",
       "      <th>Entity_2</th>\n",
       "      <th>Entity_1_type</th>\n",
       "      <th>Entity_2_type</th>\n",
       "      <th>Label</th>\n",
       "    </tr>\n",
       "  </thead>\n",
       "  <tbody>\n",
       "    <tr>\n",
       "      <th>115</th>\n",
       "      <td>Y que le parece que [PERSON]Pedro de Cazalla...</td>\n",
       "      <td>4</td>\n",
       "      <td>Pedro de Cazalla</td>\n",
       "      <td>este confesante</td>\n",
       "      <td>PERSON</td>\n",
       "      <td>PERSON_REFERENCE</td>\n",
       "      <td>NaN</td>\n",
       "    </tr>\n",
       "  </tbody>\n",
       "</table>\n",
       "</div>"
      ],
      "text/plain": [
       "                                              Sentence  Number_of_entities  \\\n",
       "115    Y que le parece que [PERSON]Pedro de Cazalla...                   4   \n",
       "\n",
       "             Entity_1         Entity_2 Entity_1_type     Entity_2_type Label  \n",
       "115  Pedro de Cazalla  este confesante        PERSON  PERSON_REFERENCE   NaN  "
      ]
     },
     "execution_count": 5,
     "metadata": {},
     "output_type": "execute_result"
    }
   ],
   "source": [
    "rows_with_nulls = df_reduced[df_reduced.isnull().any(axis=1)]\n",
    "rows_with_nulls"
   ]
  },
  {
   "cell_type": "code",
   "execution_count": 6,
   "metadata": {},
   "outputs": [],
   "source": [
    "df_reduced.dropna(inplace=True)\n"
   ]
  },
  {
   "cell_type": "code",
   "execution_count": 7,
   "metadata": {},
   "outputs": [
    {
     "data": {
      "text/html": [
       "<div>\n",
       "<style scoped>\n",
       "    .dataframe tbody tr th:only-of-type {\n",
       "        vertical-align: middle;\n",
       "    }\n",
       "\n",
       "    .dataframe tbody tr th {\n",
       "        vertical-align: top;\n",
       "    }\n",
       "\n",
       "    .dataframe thead th {\n",
       "        text-align: right;\n",
       "    }\n",
       "</style>\n",
       "<table border=\"1\" class=\"dataframe\">\n",
       "  <thead>\n",
       "    <tr style=\"text-align: right;\">\n",
       "      <th></th>\n",
       "      <th>Sentence</th>\n",
       "      <th>Number_of_entities</th>\n",
       "      <th>Entity_1</th>\n",
       "      <th>Entity_2</th>\n",
       "      <th>Entity_1_type</th>\n",
       "      <th>Entity_2_type</th>\n",
       "      <th>Label</th>\n",
       "    </tr>\n",
       "  </thead>\n",
       "  <tbody>\n",
       "  </tbody>\n",
       "</table>\n",
       "</div>"
      ],
      "text/plain": [
       "Empty DataFrame\n",
       "Columns: [Sentence, Number_of_entities, Entity_1, Entity_2, Entity_1_type, Entity_2_type, Label]\n",
       "Index: []"
      ]
     },
     "execution_count": 7,
     "metadata": {},
     "output_type": "execute_result"
    }
   ],
   "source": [
    "rows_with_nulls = df_reduced[df_reduced.isnull().any(axis=1)]\n",
    "rows_with_nulls"
   ]
  },
  {
   "cell_type": "code",
   "execution_count": 8,
   "metadata": {},
   "outputs": [
    {
     "data": {
      "text/plain": [
       "Number_of_entities\n",
       "5    469\n",
       "4    323\n",
       "3    183\n",
       "1    157\n",
       "2     99\n",
       "Name: count, dtype: int64"
      ]
     },
     "execution_count": 8,
     "metadata": {},
     "output_type": "execute_result"
    }
   ],
   "source": [
    "df_reduced['Number_of_entities'].value_counts()"
   ]
  },
  {
   "cell_type": "markdown",
   "metadata": {},
   "source": [
    "## 3. Mask the entity objetives for each sentences based on entity pairs field & 4. Create the prompt estructure for each of the sentence and add it as field in the copy of the dataset. Also, creating position embeddings.\n"
   ]
  },
  {
   "cell_type": "code",
   "execution_count": 9,
   "metadata": {},
   "outputs": [],
   "source": [
    "new_df_list = df_reduced[['Sentence', 'Label']]"
   ]
  },
  {
   "cell_type": "code",
   "execution_count": 12,
   "metadata": {},
   "outputs": [
    {
     "name": "stderr",
     "output_type": "stream",
     "text": [
      "/tmp/ipykernel_43574/2785517520.py:2: SettingWithCopyWarning: \n",
      "A value is trying to be set on a copy of a slice from a DataFrame.\n",
      "Try using .loc[row_indexer,col_indexer] = value instead\n",
      "\n",
      "See the caveats in the documentation: https://pandas.pydata.org/pandas-docs/stable/user_guide/indexing.html#returning-a-view-versus-a-copy\n",
      "  new_df_list['Sentence'] = new_df_list['Sentence'].apply(lambda x: re.sub(r'\\[.*?\\]', '', x))\n"
     ]
    },
    {
     "data": {
      "text/html": [
       "<div>\n",
       "<style scoped>\n",
       "    .dataframe tbody tr th:only-of-type {\n",
       "        vertical-align: middle;\n",
       "    }\n",
       "\n",
       "    .dataframe tbody tr th {\n",
       "        vertical-align: top;\n",
       "    }\n",
       "\n",
       "    .dataframe thead th {\n",
       "        text-align: right;\n",
       "    }\n",
       "</style>\n",
       "<table border=\"1\" class=\"dataframe\">\n",
       "  <thead>\n",
       "    <tr style=\"text-align: right;\">\n",
       "      <th></th>\n",
       "      <th>Sentence</th>\n",
       "      <th>Label</th>\n",
       "    </tr>\n",
       "  </thead>\n",
       "  <tbody>\n",
       "    <tr>\n",
       "      <th>0</th>\n",
       "      <td>Doña Ana Enríquez y de oídas lo depuso en 23...</td>\n",
       "      <td>Actos Procesales</td>\n",
       "    </tr>\n",
       "    <tr>\n",
       "      <th>1</th>\n",
       "      <td>Doña Juana de Fonseca lo depuso en 19 de abr...</td>\n",
       "      <td>Actos Procesales</td>\n",
       "    </tr>\n",
       "    <tr>\n",
       "      <th>2</th>\n",
       "      <td>Fray Alonso de Horozco depone de oídas ,  lo...</td>\n",
       "      <td>Actos Procesales</td>\n",
       "    </tr>\n",
       "    <tr>\n",
       "      <th>3</th>\n",
       "      <td>Testigoº5 Doña Antonia de Branches depuso a ...</td>\n",
       "      <td>Actos Procesales</td>\n",
       "    </tr>\n",
       "    <tr>\n",
       "      <th>4</th>\n",
       "      <td>Testigoº No declarado en el proceso Fray Ant...</td>\n",
       "      <td>Actos Procesales</td>\n",
       "    </tr>\n",
       "    <tr>\n",
       "      <th>...</th>\n",
       "      <td>...</td>\n",
       "      <td>...</td>\n",
       "    </tr>\n",
       "    <tr>\n",
       "      <th>1227</th>\n",
       "      <td>Siendo a todo ello testigos Juan Velázquez d...</td>\n",
       "      <td>Roles Procesales</td>\n",
       "    </tr>\n",
       "    <tr>\n",
       "      <th>1228</th>\n",
       "      <td>Siendo a todo ello testigos Juan Velázquez d...</td>\n",
       "      <td>Roles Procesales</td>\n",
       "    </tr>\n",
       "    <tr>\n",
       "      <th>1229</th>\n",
       "      <td>Siendo a todo ello testigos Juan Velázquez d...</td>\n",
       "      <td>Roles Procesales</td>\n",
       "    </tr>\n",
       "    <tr>\n",
       "      <th>1230</th>\n",
       "      <td>Siendo a todo ello testigos Juan Velázquez d...</td>\n",
       "      <td>Roles Procesales</td>\n",
       "    </tr>\n",
       "    <tr>\n",
       "      <th>1231</th>\n",
       "      <td>Siendo a todo ello testigos Juan Velázquez d...</td>\n",
       "      <td>Roles Procesales</td>\n",
       "    </tr>\n",
       "  </tbody>\n",
       "</table>\n",
       "<p>1231 rows × 2 columns</p>\n",
       "</div>"
      ],
      "text/plain": [
       "                                               Sentence             Label\n",
       "0       Doña Ana Enríquez y de oídas lo depuso en 23...  Actos Procesales\n",
       "1       Doña Juana de Fonseca lo depuso en 19 de abr...  Actos Procesales\n",
       "2       Fray Alonso de Horozco depone de oídas ,  lo...  Actos Procesales\n",
       "3       Testigoº5 Doña Antonia de Branches depuso a ...  Actos Procesales\n",
       "4       Testigoº No declarado en el proceso Fray Ant...  Actos Procesales\n",
       "...                                                 ...               ...\n",
       "1227    Siendo a todo ello testigos Juan Velázquez d...  Roles Procesales\n",
       "1228    Siendo a todo ello testigos Juan Velázquez d...  Roles Procesales\n",
       "1229    Siendo a todo ello testigos Juan Velázquez d...  Roles Procesales\n",
       "1230    Siendo a todo ello testigos Juan Velázquez d...  Roles Procesales\n",
       "1231    Siendo a todo ello testigos Juan Velázquez d...  Roles Procesales\n",
       "\n",
       "[1231 rows x 2 columns]"
      ]
     },
     "execution_count": 12,
     "metadata": {},
     "output_type": "execute_result"
    }
   ],
   "source": [
    "import regex as re \n",
    "new_df_list['Sentence'] = new_df_list['Sentence'].apply(lambda x: re.sub(r'\\[.*?\\]', '', x))\n",
    "new_df_list"
   ]
  },
  {
   "cell_type": "code",
   "execution_count": 13,
   "metadata": {},
   "outputs": [],
   "source": [
    "new_df_list.to_csv('test_20-06-24.csv')"
   ]
  },
  {
   "cell_type": "code",
   "execution_count": 11,
   "metadata": {},
   "outputs": [],
   "source": [
    "new_df_list = process_re_prompt(df_reduced=df_reduced)\n"
   ]
  },
  {
   "cell_type": "code",
   "execution_count": null,
   "metadata": {},
   "outputs": [],
   "source": [
    "new_df_list_black_box = process_re_prompt_blackbox(df_reduced=df_reduced)"
   ]
  },
  {
   "cell_type": "code",
   "execution_count": 13,
   "metadata": {},
   "outputs": [
    {
     "name": "stdout",
     "output_type": "stream",
     "text": [
      "Original function took 0.08 seconds\n",
      "Improved function took 0.04 seconds\n"
     ]
    }
   ],
   "source": [
    "import time\n",
    "# Test the original function\n",
    "start_time = time.time()\n",
    "result_original = process_re_prompt(df_reduced)\n",
    "end_time = time.time()\n",
    "print(f\"Original function took {end_time - start_time:.2f} seconds\")\n",
    "\n",
    "# Test the improved function\n",
    "start_time = time.time()\n",
    "result_improved = process_re_prompt_blackbox(df_reduced)\n",
    "end_time = time.time()\n",
    "print(f\"Improved function took {end_time - start_time:.2f} seconds\")\n"
   ]
  },
  {
   "cell_type": "code",
   "execution_count": 11,
   "metadata": {},
   "outputs": [],
   "source": [
    "with open('prompted_RE_senteces_19-06-24.json', 'w', encoding='utf-8') as f:\n",
    "    json.dump(new_df_list, f, ensure_ascii=False, indent=4)"
   ]
  }
 ],
 "metadata": {
  "kernelspec": {
   "display_name": ".venv",
   "language": "python",
   "name": "python3"
  },
  "language_info": {
   "codemirror_mode": {
    "name": "ipython",
    "version": 3
   },
   "file_extension": ".py",
   "mimetype": "text/x-python",
   "name": "python",
   "nbconvert_exporter": "python",
   "pygments_lexer": "ipython3",
   "version": "3.10.12"
  }
 },
 "nbformat": 4,
 "nbformat_minor": 2
}
