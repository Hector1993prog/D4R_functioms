{
 "cells": [
  {
   "cell_type": "markdown",
   "metadata": {},
   "source": [
    "## Import Libraries"
   ]
  },
  {
   "cell_type": "code",
   "execution_count": 1,
   "metadata": {},
   "outputs": [],
   "source": [
    "import ast\n",
    "import numpy as np \n",
    "import pandas as pd\n",
    "import torch\n",
    "from torchinfo import summary, ModelStatistics\n",
    "from sklearn.model_selection import train_test_split\n",
    "from sklearn.metrics import accuracy_score, classification_report, f1_score\n",
    "from transformers import RobertaTokenizerFast, RobertaForTokenClassification, DataCollatorForTokenClassification\n",
    "from tqdm.notebook import tqdm\n",
    "\n",
    "\n"
   ]
  },
  {
   "cell_type": "markdown",
   "metadata": {},
   "source": [
    "## Preprocessing"
   ]
  },
  {
   "cell_type": "code",
   "execution_count": 2,
   "metadata": {},
   "outputs": [],
   "source": [
    "df = pd.read_excel(r'/home/tensorboard/Documentos/D4R/7. Cazalla datasets/augmented BIONER/Cazalla_Augmented_BIONER_Religious.xlsx')\n",
    "df = df.drop('Unnamed: 0', axis=1)\n",
    "df = df.drop('Unnamed: 0.1', axis=1)"
   ]
  },
  {
   "cell_type": "code",
   "execution_count": 3,
   "metadata": {},
   "outputs": [],
   "source": [
    "import ast\n",
    "df['sentence'] = df['sentence'].apply(ast.literal_eval)\n",
    "df.rename(columns={'sentence': 'tokens'}, inplace=True)\n",
    "df['tags'] = df['tags'].apply(ast.literal_eval)"
   ]
  },
  {
   "cell_type": "code",
   "execution_count": 4,
   "metadata": {},
   "outputs": [
    {
     "name": "stdout",
     "output_type": "stream",
     "text": [
      "1424\n"
     ]
    }
   ],
   "source": [
    "def find_first_row_with_unequal_list_lengths(df, column1, column2):\n",
    "    for index, row in df.iterrows():\n",
    "        list1 = row[column1]\n",
    "        list2 = row[column2]\n",
    "        if len(list1) != len(list2):\n",
    "            return index  # Return the index of the first row with unequal list lengths\n",
    "    return None  # Return None if all rows have equal list lengths\n",
    "\n",
    "# Example usage:\n",
    "column1 = 'tags'  # Replace 'list_column1' with the actual name of your first list column\n",
    "column2 = 'tokens'  # Replace 'list_column2' with the actual name of your second list column\n",
    "\n",
    "# Check if the lengths of the lists in the two columns are equal for each row\n",
    "result = find_first_row_with_unequal_list_lengths(df, column1, column2)\n",
    "print(result)"
   ]
  },
  {
   "cell_type": "code",
   "execution_count": 5,
   "metadata": {},
   "outputs": [
    {
     "data": {
      "text/plain": [
       "(32, 33)"
      ]
     },
     "execution_count": 5,
     "metadata": {},
     "output_type": "execute_result"
    }
   ],
   "source": [
    "len(df['tags'][1424]), len(df['tokens'][1424])"
   ]
  },
  {
   "cell_type": "code",
   "execution_count": 6,
   "metadata": {},
   "outputs": [
    {
     "name": "stdout",
     "output_type": "stream",
     "text": [
      "['O', 'O', 'O', 'O', 'O', 'O', 'O', 'O', 'O', 'O', 'O', 'O', 'O', 'O', 'O', 'O', 'O', 'O', 'O', 'O', 'O', 'O', 'O', 'B-placeName', 'O', 'O', 'O', 'O', 'O', 'O', 'O', 'O', 'O']\n"
     ]
    }
   ],
   "source": [
    "def add_zero_to_list_at_index(df, index, column):\n",
    "    # Get the list in the specified row and column\n",
    "    current_list = df.at[index, column]\n",
    "    \n",
    "    # Append \"0\" to the list\n",
    "    current_list.append('O')\n",
    "    \n",
    "    # Update the DataFrame with the modified list\n",
    "    df.at[index, column] = current_list\n",
    "\n",
    "# Example usage:\n",
    "index = 1424  # Replace with the actual index where you found unequal list lengths\n",
    "column = 'tags' # Replace with the actual name of the column\n",
    "add_zero_to_list_at_index(df, index, column)\n",
    "\n",
    "# Verify the modification\n",
    "print(df.loc[index, column])"
   ]
  },
  {
   "cell_type": "code",
   "execution_count": 7,
   "metadata": {},
   "outputs": [
    {
     "name": "stdout",
     "output_type": "stream",
     "text": [
      "None\n"
     ]
    }
   ],
   "source": [
    "# Check if the lengths of the lists in the two columns are equal for each row\n",
    "result = find_first_row_with_unequal_list_lengths(df, column1, column2)\n",
    "print(result)"
   ]
  },
  {
   "cell_type": "code",
   "execution_count": 8,
   "metadata": {},
   "outputs": [],
   "source": [
    "labels_to_ids = {'O': 0,\n",
    "                 'B-persName':1,\n",
    "                 'I-persName':2,\n",
    "                 'B-date' :3,\n",
    "                 'I-date': 4,\n",
    "                 'B-placeName': 5,\n",
    "                 'I-placeName':6,\n",
    "                 'B-orgName': 7,\n",
    "                 'I-orgName': 8,\n",
    "                 'B-rs': 9,\n",
    "                 'I-rs': 10,\n",
    "                 'B-term': 11,\n",
    "                 'I-term':12\n",
    "                 }\n",
    "ids_to_lables = {v:k for k, v in labels_to_ids.items()}\n",
    "\n",
    "labels_list = [x for x in ids_to_lables.values()]"
   ]
  },
  {
   "cell_type": "code",
   "execution_count": 9,
   "metadata": {},
   "outputs": [
    {
     "data": {
      "text/plain": [
       "{0: 'O',\n",
       " 1: 'B-persName',\n",
       " 2: 'I-persName',\n",
       " 3: 'B-date',\n",
       " 4: 'I-date',\n",
       " 5: 'B-placeName',\n",
       " 6: 'I-placeName',\n",
       " 7: 'B-orgName',\n",
       " 8: 'I-orgName',\n",
       " 9: 'B-rs',\n",
       " 10: 'I-rs',\n",
       " 11: 'B-term',\n",
       " 12: 'I-term'}"
      ]
     },
     "execution_count": 9,
     "metadata": {},
     "output_type": "execute_result"
    }
   ],
   "source": [
    "ids_to_lables "
   ]
  },
  {
   "cell_type": "code",
   "execution_count": 10,
   "metadata": {},
   "outputs": [],
   "source": [
    "df['encoded_tags'] = df['tags'].apply(lambda tags: [labels_to_ids[tag] for tag in tags])\n",
    "df.rename(columns={'tags': 'labels'}, inplace=True)\n",
    "df.rename(columns={'encoded_tags': 'ner_tags'}, inplace=True)\n",
    "df = df[['tokens', 'ner_tags', 'labels', 'source']]\n",
    "df_test = df.drop('labels', axis=1)\n",
    "df_test = df.drop('source', axis=1)\n",
    "df_test =  df_test.drop('labels', axis=1)\n"
   ]
  },
  {
   "cell_type": "code",
   "execution_count": 11,
   "metadata": {},
   "outputs": [
    {
     "data": {
      "text/plain": [
       "(27, 27)"
      ]
     },
     "execution_count": 11,
     "metadata": {},
     "output_type": "execute_result"
    }
   ],
   "source": [
    "len(df_test['ner_tags'][958]), len(df_test['tokens'][958])"
   ]
  },
  {
   "cell_type": "code",
   "execution_count": 12,
   "metadata": {},
   "outputs": [
    {
     "name": "stdout",
     "output_type": "stream",
     "text": [
      "<class 'int'>\n",
      "<class 'int'>\n",
      "<class 'int'>\n",
      "<class 'int'>\n",
      "<class 'int'>\n",
      "<class 'int'>\n",
      "<class 'int'>\n",
      "<class 'int'>\n",
      "<class 'int'>\n",
      "<class 'int'>\n",
      "<class 'int'>\n"
     ]
    }
   ],
   "source": [
    "for v in df_test['ner_tags'][0]:\n",
    "    print(type(v))"
   ]
  },
  {
   "cell_type": "code",
   "execution_count": 13,
   "metadata": {},
   "outputs": [],
   "source": [
    "df = df_test[~df_test['ner_tags'].apply(lambda x: x == ['0'] * len(x))]"
   ]
  },
  {
   "cell_type": "code",
   "execution_count": 14,
   "metadata": {},
   "outputs": [
    {
     "data": {
      "text/html": [
       "<div>\n",
       "<style scoped>\n",
       "    .dataframe tbody tr th:only-of-type {\n",
       "        vertical-align: middle;\n",
       "    }\n",
       "\n",
       "    .dataframe tbody tr th {\n",
       "        vertical-align: top;\n",
       "    }\n",
       "\n",
       "    .dataframe thead th {\n",
       "        text-align: right;\n",
       "    }\n",
       "</style>\n",
       "<table border=\"1\" class=\"dataframe\">\n",
       "  <thead>\n",
       "    <tr style=\"text-align: right;\">\n",
       "      <th></th>\n",
       "      <th>tokens</th>\n",
       "      <th>ner_tags</th>\n",
       "    </tr>\n",
       "  </thead>\n",
       "  <tbody>\n",
       "    <tr>\n",
       "      <th>0</th>\n",
       "      <td>[y, así, fue, mandado, volver, a, su, cárcel.,...</td>\n",
       "      <td>[0, 0, 0, 0, 0, 0, 0, 0, 0, 0, 9]</td>\n",
       "    </tr>\n",
       "    <tr>\n",
       "      <th>1</th>\n",
       "      <td>[estando, a, ello, presentes, ,, por, honestas...</td>\n",
       "      <td>[0, 0, 0, 0, 0, 0, 0, 0, 0, 0, 0, 1, 2, 0, 1, ...</td>\n",
       "    </tr>\n",
       "    <tr>\n",
       "      <th>2</th>\n",
       "      <td>[y, que, ,, al, parecer, de, este, testigo, ,,...</td>\n",
       "      <td>[0, 0, 0, 0, 0, 0, 9, 10, 0, 11, 10, 0, 0, 0, ...</td>\n",
       "    </tr>\n",
       "    <tr>\n",
       "      <th>3</th>\n",
       "      <td>[y, lo, habrá, expresado, aunque, no, se, recu...</td>\n",
       "      <td>[0, 0, 0, 0, 0, 0, 0, 0, 0, 0, 0, 0, 0, 0, 0, ...</td>\n",
       "    </tr>\n",
       "    <tr>\n",
       "      <th>4</th>\n",
       "      <td>[y, no, se, acuerda, de, las, personas, que, s...</td>\n",
       "      <td>[0, 0, 0, 0, 0, 0, 0, 0, 0, 0, 0, 1, 2, 2]</td>\n",
       "    </tr>\n",
       "    <tr>\n",
       "      <th>...</th>\n",
       "      <td>...</td>\n",
       "      <td>...</td>\n",
       "    </tr>\n",
       "    <tr>\n",
       "      <th>2792</th>\n",
       "      <td>[y, que, la, ceremonia, le, ofrecía, en, agrad...</td>\n",
       "      <td>[0, 0, 0, 0, 0, 0, 0, 0, 0, 0, 0]</td>\n",
       "    </tr>\n",
       "    <tr>\n",
       "      <th>2793</th>\n",
       "      <td>[y, que, todo, lo, demás, contenido, en, las, ...</td>\n",
       "      <td>[0, 0, 0, 0, 0, 0, 0, 0, 0, 0, 0, 0, 11, 0, 0,...</td>\n",
       "    </tr>\n",
       "    <tr>\n",
       "      <th>2794</th>\n",
       "      <td>[y, que, antes, que, lo, hiciese, lo, había, c...</td>\n",
       "      <td>[0, 0, 0, 0, 0, 0, 0, 0, 0, 0, 0, 1, 2]</td>\n",
       "    </tr>\n",
       "    <tr>\n",
       "      <th>2795</th>\n",
       "      <td>[y, lo, diferente, porque, yo, siempre, he, te...</td>\n",
       "      <td>[0, 0, 9, 0, 9, 0, 0, 0, 0, 0, 0, 0, 0, 0, 0, ...</td>\n",
       "    </tr>\n",
       "    <tr>\n",
       "      <th>2796</th>\n",
       "      <td>[y, comunicó, éste, su, trabajo, con, su, abog...</td>\n",
       "      <td>[0, 0, 0, 0, 0, 0, 0, 0, 0, 0, 0, 0, 0, 0, 0, ...</td>\n",
       "    </tr>\n",
       "  </tbody>\n",
       "</table>\n",
       "<p>2797 rows × 2 columns</p>\n",
       "</div>"
      ],
      "text/plain": [
       "                                                 tokens  \\\n",
       "0     [y, así, fue, mandado, volver, a, su, cárcel.,...   \n",
       "1     [estando, a, ello, presentes, ,, por, honestas...   \n",
       "2     [y, que, ,, al, parecer, de, este, testigo, ,,...   \n",
       "3     [y, lo, habrá, expresado, aunque, no, se, recu...   \n",
       "4     [y, no, se, acuerda, de, las, personas, que, s...   \n",
       "...                                                 ...   \n",
       "2792  [y, que, la, ceremonia, le, ofrecía, en, agrad...   \n",
       "2793  [y, que, todo, lo, demás, contenido, en, las, ...   \n",
       "2794  [y, que, antes, que, lo, hiciese, lo, había, c...   \n",
       "2795  [y, lo, diferente, porque, yo, siempre, he, te...   \n",
       "2796  [y, comunicó, éste, su, trabajo, con, su, abog...   \n",
       "\n",
       "                                               ner_tags  \n",
       "0                     [0, 0, 0, 0, 0, 0, 0, 0, 0, 0, 9]  \n",
       "1     [0, 0, 0, 0, 0, 0, 0, 0, 0, 0, 0, 1, 2, 0, 1, ...  \n",
       "2     [0, 0, 0, 0, 0, 0, 9, 10, 0, 11, 10, 0, 0, 0, ...  \n",
       "3     [0, 0, 0, 0, 0, 0, 0, 0, 0, 0, 0, 0, 0, 0, 0, ...  \n",
       "4            [0, 0, 0, 0, 0, 0, 0, 0, 0, 0, 0, 1, 2, 2]  \n",
       "...                                                 ...  \n",
       "2792                  [0, 0, 0, 0, 0, 0, 0, 0, 0, 0, 0]  \n",
       "2793  [0, 0, 0, 0, 0, 0, 0, 0, 0, 0, 0, 0, 11, 0, 0,...  \n",
       "2794            [0, 0, 0, 0, 0, 0, 0, 0, 0, 0, 0, 1, 2]  \n",
       "2795  [0, 0, 9, 0, 9, 0, 0, 0, 0, 0, 0, 0, 0, 0, 0, ...  \n",
       "2796  [0, 0, 0, 0, 0, 0, 0, 0, 0, 0, 0, 0, 0, 0, 0, ...  \n",
       "\n",
       "[2797 rows x 2 columns]"
      ]
     },
     "execution_count": 14,
     "metadata": {},
     "output_type": "execute_result"
    }
   ],
   "source": [
    "df_test"
   ]
  },
  {
   "cell_type": "code",
   "execution_count": null,
   "metadata": {},
   "outputs": [],
   "source": []
  },
  {
   "cell_type": "code",
   "execution_count": 15,
   "metadata": {},
   "outputs": [],
   "source": [
    "input_column = 'tokens'\n",
    "label_column = 'ner_tags'\n",
    "\n",
    "# Split the DataFrame into training and testing sets\n",
    "train_df, test_df = train_test_split(df_test, test_size=0.3, random_state=42)\n",
    "\n"
   ]
  },
  {
   "cell_type": "code",
   "execution_count": 16,
   "metadata": {},
   "outputs": [],
   "source": [
    "from transformers import BertTokenizerFast\n",
    "model_test_name = 'PlanTL-GOB-ES/roberta-base-bne'\n",
    "\n",
    "tokenizer = RobertaTokenizerFast.from_pretrained(model_test_name, add_prefix_space= True)"
   ]
  },
  {
   "cell_type": "code",
   "execution_count": 17,
   "metadata": {},
   "outputs": [],
   "source": [
    "import torch\n",
    "\n",
    "def tokenize_and_align_labels(dataframe, tokenizer):\n",
    "    # Tokenize inputs using the provided tokenizer\n",
    "    tokenized_inputs = tokenizer(dataframe['tokens'].tolist(),\n",
    "                                 truncation=True,\n",
    "                                 is_split_into_words=True,\n",
    "                                 padding=True,\n",
    "                                 max_length=200,\n",
    "                                 return_tensors='pt'\n",
    "                                )\n",
    "\n",
    "    labels = []\n",
    "    for i, label in enumerate(dataframe['ner_tags'].tolist()):\n",
    "        word_ids = tokenized_inputs.word_ids(batch_index=i)  # Map tokens to their respective word.\n",
    "        previous_word_idx = None\n",
    "        label_ids = []\n",
    "        for word_idx in word_ids:  # Set the special tokens to -100.\n",
    "            if word_idx is None:\n",
    "                label_ids.append(-100)\n",
    "            elif word_idx != previous_word_idx:  # Only label the first token of a given word.\n",
    "                if word_idx < len(label):  # Check if the word index is within the range of the label list\n",
    "                    label_ids.append(label[word_idx])\n",
    "            else:\n",
    "                label_ids.append(-100)\n",
    "            previous_word_idx = word_idx\n",
    "        labels.append(label_ids)\n",
    "\n",
    "    # Convert lists to PyTorch tensors\n",
    "    tokenized_inputs[\"labels\"] = torch.tensor(labels)\n",
    "\n",
    "    return tokenized_inputs\n"
   ]
  },
  {
   "cell_type": "code",
   "execution_count": 18,
   "metadata": {},
   "outputs": [],
   "source": [
    "tokenized_inputs_train = tokenize_and_align_labels(train_df, tokenizer=tokenizer)"
   ]
  },
  {
   "cell_type": "code",
   "execution_count": 19,
   "metadata": {},
   "outputs": [],
   "source": [
    "\n",
    "tokenized_inputs_test = tokenize_and_align_labels(test_df, tokenizer)"
   ]
  },
  {
   "cell_type": "code",
   "execution_count": 20,
   "metadata": {},
   "outputs": [
    {
     "data": {
      "text/plain": [
       "torch.Size([1957, 200])"
      ]
     },
     "execution_count": 20,
     "metadata": {},
     "output_type": "execute_result"
    }
   ],
   "source": [
    "tokenized_inputs_train['input_ids'].shape"
   ]
  },
  {
   "cell_type": "markdown",
   "metadata": {},
   "source": [
    "## Transfer Learning Test"
   ]
  },
  {
   "cell_type": "code",
   "execution_count": 49,
   "metadata": {},
   "outputs": [
    {
     "name": "stderr",
     "output_type": "stream",
     "text": [
      "Some weights of RobertaForTokenClassification were not initialized from the model checkpoint at PlanTL-GOB-ES/roberta-base-bne and are newly initialized: ['classifier.bias', 'classifier.weight']\n",
      "You should probably TRAIN this model on a down-stream task to be able to use it for predictions and inference.\n"
     ]
    }
   ],
   "source": [
    "\n",
    "model =  RobertaForTokenClassification.from_pretrained(model_test_name, num_labels= len(labels_list),id2label=ids_to_lables, label2id=labels_to_ids)"
   ]
  },
  {
   "cell_type": "code",
   "execution_count": 50,
   "metadata": {},
   "outputs": [],
   "source": [
    "from torch.nn import Linear\n",
    "for param in model.parameters():\n",
    "    param.requires_grad = False\n",
    "# Create a new linear layer for NER\n",
    "new_classifier = Linear(in_features=model.config.hidden_size, out_features=model.config.num_labels)\n",
    "\n",
    "# Replace the existing classifier with the new one\n",
    "model.classifier = new_classifier"
   ]
  },
  {
   "cell_type": "code",
   "execution_count": 51,
   "metadata": {},
   "outputs": [
    {
     "data": {
      "text/plain": [
       "================================================================================================================================================================\n",
       "Layer (type:depth-idx)                                       Input Shape               Output Shape              Param #                   Trainable\n",
       "================================================================================================================================================================\n",
       "RobertaForTokenClassification                                [1, 128]                  [1, 128, 13]              --                        Partial\n",
       "├─RobertaModel: 1-1                                          [1, 128]                  [1, 128, 768]             --                        False\n",
       "│    └─RobertaEmbeddings: 2-1                                --                        [1, 128, 768]             --                        False\n",
       "│    │    └─Embedding: 3-1                                   [1, 128]                  [1, 128, 768]             (38,601,216)              False\n",
       "│    │    └─Embedding: 3-2                                   [1, 128]                  [1, 128, 768]             (768)                     False\n",
       "│    │    └─Embedding: 3-3                                   [1, 128]                  [1, 128, 768]             (394,752)                 False\n",
       "│    │    └─LayerNorm: 3-4                                   [1, 128, 768]             [1, 128, 768]             (1,536)                   False\n",
       "│    │    └─Dropout: 3-5                                     [1, 128, 768]             [1, 128, 768]             --                        --\n",
       "│    └─RobertaEncoder: 2-2                                   [1, 128, 768]             [1, 128, 768]             --                        False\n",
       "│    │    └─ModuleList: 3-6                                  --                        --                        (85,054,464)              False\n",
       "├─Dropout: 1-2                                               [1, 128, 768]             [1, 128, 768]             --                        --\n",
       "├─Linear: 1-3                                                [1, 128, 768]             [1, 128, 13]              9,997                     True\n",
       "================================================================================================================================================================\n",
       "Total params: 124,062,733\n",
       "Trainable params: 9,997\n",
       "Non-trainable params: 124,052,736\n",
       "Total mult-adds (M): 124.06\n",
       "================================================================================================================================================================\n",
       "Input size (MB): 0.00\n",
       "Forward/backward pass size (MB): 106.97\n",
       "Params size (MB): 496.25\n",
       "Estimated Total Size (MB): 603.22\n",
       "================================================================================================================================================================"
      ]
     },
     "execution_count": 51,
     "metadata": {},
     "output_type": "execute_result"
    }
   ],
   "source": [
    "input_ids = torch.randint(0, model.config.vocab_size, (1, 128))\n",
    "attention_mask = torch.ones((1, 128))\n",
    "\n",
    "        # Get the model summary\n",
    "summary(model,\n",
    "            input_data=input_ids,\n",
    "                       col_names=[\"input_size\", \"output_size\", \"num_params\", \"trainable\"],\n",
    "                       )"
   ]
  },
  {
   "cell_type": "code",
   "execution_count": 52,
   "metadata": {},
   "outputs": [],
   "source": [
    "class baseDataset(torch.utils.data.Dataset):\n",
    "    def __init__(self, encodings):\n",
    "        self.encodings = encodings\n",
    "    def __getitem__(self, idx):\n",
    "        return {key: val[idx].clone().detach() for key, val in self.encodings.items()}\n",
    "    def __len__(self):\n",
    "        return len(self.encodings.input_ids)"
   ]
  },
  {
   "cell_type": "code",
   "execution_count": 53,
   "metadata": {},
   "outputs": [],
   "source": [
    "dataset_train= baseDataset(tokenized_inputs_train)\n",
    "dataset_test =baseDataset(tokenized_inputs_test)\n",
    "train_loader = torch.utils.data.DataLoader(dataset_train, batch_size=48, shuffle=True)\n",
    "test_loader = torch.utils.data.DataLoader(dataset_test, batch_size=24, shuffle=True)"
   ]
  },
  {
   "cell_type": "code",
   "execution_count": 54,
   "metadata": {},
   "outputs": [],
   "source": [
    "optimizer= torch.optim.AdamW(model.parameters(), lr=5e-5)"
   ]
  },
  {
   "cell_type": "code",
   "execution_count": 55,
   "metadata": {},
   "outputs": [
    {
     "data": {
      "text/plain": [
       "'cuda'"
      ]
     },
     "execution_count": 55,
     "metadata": {},
     "output_type": "execute_result"
    }
   ],
   "source": [
    "device ='cuda' if torch.cuda.is_available() else 'cpu'\n",
    "device"
   ]
  },
  {
   "cell_type": "code",
   "execution_count": 56,
   "metadata": {},
   "outputs": [
    {
     "data": {
      "text/plain": [
       "RobertaForTokenClassification(\n",
       "  (roberta): RobertaModel(\n",
       "    (embeddings): RobertaEmbeddings(\n",
       "      (word_embeddings): Embedding(50262, 768, padding_idx=1)\n",
       "      (position_embeddings): Embedding(514, 768, padding_idx=1)\n",
       "      (token_type_embeddings): Embedding(1, 768)\n",
       "      (LayerNorm): LayerNorm((768,), eps=1e-05, elementwise_affine=True)\n",
       "      (dropout): Dropout(p=0.0, inplace=False)\n",
       "    )\n",
       "    (encoder): RobertaEncoder(\n",
       "      (layer): ModuleList(\n",
       "        (0-11): 12 x RobertaLayer(\n",
       "          (attention): RobertaAttention(\n",
       "            (self): RobertaSelfAttention(\n",
       "              (query): Linear(in_features=768, out_features=768, bias=True)\n",
       "              (key): Linear(in_features=768, out_features=768, bias=True)\n",
       "              (value): Linear(in_features=768, out_features=768, bias=True)\n",
       "              (dropout): Dropout(p=0.0, inplace=False)\n",
       "            )\n",
       "            (output): RobertaSelfOutput(\n",
       "              (dense): Linear(in_features=768, out_features=768, bias=True)\n",
       "              (LayerNorm): LayerNorm((768,), eps=1e-05, elementwise_affine=True)\n",
       "              (dropout): Dropout(p=0.0, inplace=False)\n",
       "            )\n",
       "          )\n",
       "          (intermediate): RobertaIntermediate(\n",
       "            (dense): Linear(in_features=768, out_features=3072, bias=True)\n",
       "            (intermediate_act_fn): GELUActivation()\n",
       "          )\n",
       "          (output): RobertaOutput(\n",
       "            (dense): Linear(in_features=3072, out_features=768, bias=True)\n",
       "            (LayerNorm): LayerNorm((768,), eps=1e-05, elementwise_affine=True)\n",
       "            (dropout): Dropout(p=0.0, inplace=False)\n",
       "          )\n",
       "        )\n",
       "      )\n",
       "    )\n",
       "  )\n",
       "  (dropout): Dropout(p=0.0, inplace=False)\n",
       "  (classifier): Linear(in_features=768, out_features=13, bias=True)\n",
       ")"
      ]
     },
     "execution_count": 56,
     "metadata": {},
     "output_type": "execute_result"
    }
   ],
   "source": [
    "model.to(device)\n",
    "model.train()"
   ]
  },
  {
   "cell_type": "code",
   "execution_count": 57,
   "metadata": {},
   "outputs": [
    {
     "data": {
      "application/vnd.jupyter.widget-view+json": {
       "model_id": "a4c2a70ecdbe49ffa8fbacec80686390",
       "version_major": 2,
       "version_minor": 0
      },
      "text/plain": [
       "  0%|          | 0/47 [00:00<?, ?it/s]"
      ]
     },
     "metadata": {},
     "output_type": "display_data"
    },
    {
     "data": {
      "application/vnd.jupyter.widget-view+json": {
       "model_id": "425595761cfa4cfdbf8123f50c84fe24",
       "version_major": 2,
       "version_minor": 0
      },
      "text/plain": [
       "  0%|          | 0/47 [00:00<?, ?it/s]"
      ]
     },
     "metadata": {},
     "output_type": "display_data"
    },
    {
     "data": {
      "application/vnd.jupyter.widget-view+json": {
       "model_id": "4b333ffc5cbd4eb2afd1dc986f1fd57b",
       "version_major": 2,
       "version_minor": 0
      },
      "text/plain": [
       "  0%|          | 0/47 [00:00<?, ?it/s]"
      ]
     },
     "metadata": {},
     "output_type": "display_data"
    },
    {
     "data": {
      "application/vnd.jupyter.widget-view+json": {
       "model_id": "d069297ac0f14da797cdb952bdd3a74e",
       "version_major": 2,
       "version_minor": 0
      },
      "text/plain": [
       "  0%|          | 0/47 [00:00<?, ?it/s]"
      ]
     },
     "metadata": {},
     "output_type": "display_data"
    },
    {
     "data": {
      "application/vnd.jupyter.widget-view+json": {
       "model_id": "3e954b5a5a7b4f4293cee4c91925f17d",
       "version_major": 2,
       "version_minor": 0
      },
      "text/plain": [
       "  0%|          | 0/47 [00:00<?, ?it/s]"
      ]
     },
     "metadata": {},
     "output_type": "display_data"
    },
    {
     "data": {
      "application/vnd.jupyter.widget-view+json": {
       "model_id": "ec1c6979bd674ecc85592da53c205af2",
       "version_major": 2,
       "version_minor": 0
      },
      "text/plain": [
       "  0%|          | 0/47 [00:00<?, ?it/s]"
      ]
     },
     "metadata": {},
     "output_type": "display_data"
    },
    {
     "data": {
      "application/vnd.jupyter.widget-view+json": {
       "model_id": "234fb24ae6724b7a9796e4ec3e508883",
       "version_major": 2,
       "version_minor": 0
      },
      "text/plain": [
       "  0%|          | 0/47 [00:00<?, ?it/s]"
      ]
     },
     "metadata": {},
     "output_type": "display_data"
    },
    {
     "data": {
      "application/vnd.jupyter.widget-view+json": {
       "model_id": "f65619af1a464f76a6ae83242b3f562a",
       "version_major": 2,
       "version_minor": 0
      },
      "text/plain": [
       "  0%|          | 0/47 [00:00<?, ?it/s]"
      ]
     },
     "metadata": {},
     "output_type": "display_data"
    },
    {
     "data": {
      "application/vnd.jupyter.widget-view+json": {
       "model_id": "fc1a2f80f8584824bc02edcc983d1bb2",
       "version_major": 2,
       "version_minor": 0
      },
      "text/plain": [
       "  0%|          | 0/47 [00:00<?, ?it/s]"
      ]
     },
     "metadata": {},
     "output_type": "display_data"
    },
    {
     "data": {
      "application/vnd.jupyter.widget-view+json": {
       "model_id": "28093a3d8b8d418fbf87163dc0978969",
       "version_major": 2,
       "version_minor": 0
      },
      "text/plain": [
       "  0%|          | 0/47 [00:00<?, ?it/s]"
      ]
     },
     "metadata": {},
     "output_type": "display_data"
    },
    {
     "data": {
      "application/vnd.jupyter.widget-view+json": {
       "model_id": "6b0b624b239f4ec2b6fed2d7e3ab1b29",
       "version_major": 2,
       "version_minor": 0
      },
      "text/plain": [
       "  0%|          | 0/47 [00:00<?, ?it/s]"
      ]
     },
     "metadata": {},
     "output_type": "display_data"
    },
    {
     "data": {
      "application/vnd.jupyter.widget-view+json": {
       "model_id": "6c5d5e1956704beea34978f65afa0039",
       "version_major": 2,
       "version_minor": 0
      },
      "text/plain": [
       "  0%|          | 0/47 [00:00<?, ?it/s]"
      ]
     },
     "metadata": {},
     "output_type": "display_data"
    },
    {
     "data": {
      "application/vnd.jupyter.widget-view+json": {
       "model_id": "886c6d818cc446e38ec05aa59f95e8c8",
       "version_major": 2,
       "version_minor": 0
      },
      "text/plain": [
       "  0%|          | 0/47 [00:00<?, ?it/s]"
      ]
     },
     "metadata": {},
     "output_type": "display_data"
    },
    {
     "data": {
      "application/vnd.jupyter.widget-view+json": {
       "model_id": "9cb1ed440ec64e878fd1615288396ccc",
       "version_major": 2,
       "version_minor": 0
      },
      "text/plain": [
       "  0%|          | 0/47 [00:00<?, ?it/s]"
      ]
     },
     "metadata": {},
     "output_type": "display_data"
    },
    {
     "data": {
      "application/vnd.jupyter.widget-view+json": {
       "model_id": "6a2e72a937d941febf9a5176a422cfc7",
       "version_major": 2,
       "version_minor": 0
      },
      "text/plain": [
       "  0%|          | 0/47 [00:00<?, ?it/s]"
      ]
     },
     "metadata": {},
     "output_type": "display_data"
    },
    {
     "data": {
      "application/vnd.jupyter.widget-view+json": {
       "model_id": "6bfea6a3410b4cf5b71717397f773c3e",
       "version_major": 2,
       "version_minor": 0
      },
      "text/plain": [
       "  0%|          | 0/47 [00:00<?, ?it/s]"
      ]
     },
     "metadata": {},
     "output_type": "display_data"
    },
    {
     "data": {
      "application/vnd.jupyter.widget-view+json": {
       "model_id": "ec5b8cd9a11b4fd29cdfe2bb7beb1db1",
       "version_major": 2,
       "version_minor": 0
      },
      "text/plain": [
       "  0%|          | 0/47 [00:00<?, ?it/s]"
      ]
     },
     "metadata": {},
     "output_type": "display_data"
    },
    {
     "data": {
      "application/vnd.jupyter.widget-view+json": {
       "model_id": "f3c08e9c2dc24dddab05d7eb819b1960",
       "version_major": 2,
       "version_minor": 0
      },
      "text/plain": [
       "  0%|          | 0/47 [00:00<?, ?it/s]"
      ]
     },
     "metadata": {},
     "output_type": "display_data"
    },
    {
     "data": {
      "application/vnd.jupyter.widget-view+json": {
       "model_id": "7ecafb653df24075ad1f3059747d3f5b",
       "version_major": 2,
       "version_minor": 0
      },
      "text/plain": [
       "  0%|          | 0/47 [00:00<?, ?it/s]"
      ]
     },
     "metadata": {},
     "output_type": "display_data"
    },
    {
     "data": {
      "application/vnd.jupyter.widget-view+json": {
       "model_id": "9d58388cf1b549e99c7aab527bccbeea",
       "version_major": 2,
       "version_minor": 0
      },
      "text/plain": [
       "  0%|          | 0/47 [00:00<?, ?it/s]"
      ]
     },
     "metadata": {},
     "output_type": "display_data"
    },
    {
     "name": "stdout",
     "output_type": "stream",
     "text": [
      "Micro F1 Score: 0.7967241652160152\n",
      "Classification Report:\n",
      "              precision    recall  f1-score   support\n",
      "\n",
      "           O       0.80      1.00      0.89     19996\n",
      "  B-persName       0.00      0.00      0.00       714\n",
      "  I-persName       0.99      0.15      0.26       959\n",
      "      B-date       0.00      0.00      0.00        41\n",
      "      I-date       0.00      0.00      0.00       347\n",
      " B-placeName       0.00      0.00      0.00       174\n",
      " I-placeName       0.00      0.00      0.00        43\n",
      "   B-orgName       0.00      0.00      0.00        80\n",
      "   I-orgName       0.00      0.00      0.00       131\n",
      "        B-rs       0.00      0.00      0.00       745\n",
      "        I-rs       0.00      0.00      0.00       626\n",
      "      B-term       0.00      0.00      0.00      1242\n",
      "      I-term       0.00      0.00      0.00       178\n",
      "\n",
      "    accuracy                           0.80     25276\n",
      "   macro avg       0.14      0.09      0.09     25276\n",
      "weighted avg       0.67      0.80      0.71     25276\n",
      "\n"
     ]
    },
    {
     "name": "stderr",
     "output_type": "stream",
     "text": [
      "/home/tensorboard/Documentos/D4R/.venv/lib/python3.10/site-packages/sklearn/metrics/_classification.py:1497: UndefinedMetricWarning: Precision is ill-defined and being set to 0.0 in labels with no predicted samples. Use `zero_division` parameter to control this behavior.\n",
      "  _warn_prf(average, modifier, f\"{metric.capitalize()} is\", len(result))\n",
      "/home/tensorboard/Documentos/D4R/.venv/lib/python3.10/site-packages/sklearn/metrics/_classification.py:1497: UndefinedMetricWarning: Precision is ill-defined and being set to 0.0 in labels with no predicted samples. Use `zero_division` parameter to control this behavior.\n",
      "  _warn_prf(average, modifier, f\"{metric.capitalize()} is\", len(result))\n",
      "/home/tensorboard/Documentos/D4R/.venv/lib/python3.10/site-packages/sklearn/metrics/_classification.py:1497: UndefinedMetricWarning: Precision is ill-defined and being set to 0.0 in labels with no predicted samples. Use `zero_division` parameter to control this behavior.\n",
      "  _warn_prf(average, modifier, f\"{metric.capitalize()} is\", len(result))\n"
     ]
    }
   ],
   "source": [
    "from tqdm.notebook import tqdm\n",
    "epochs = 20\n",
    "train_losses = []\n",
    "for epoch in range(epochs):\n",
    "    # setup loop with TQDM and dataloader\n",
    "    loop = tqdm(train_loader, leave=True)\n",
    "    for batch in loop:\n",
    "        # initialize calculated gradients (from prev step)\n",
    "        optimizer.zero_grad()\n",
    "        # pull all tensor batches required for training\n",
    "        input_ids = batch['input_ids'].to(device)\n",
    "        #token_type_ids = batch['token_type_ids'].to(device)\n",
    "        attention_mask = batch['attention_mask'].to(device)\n",
    "        labels = batch['labels'].to(device)\n",
    "        # process\n",
    "        outputs = model(input_ids,\n",
    "                        attention_mask=attention_mask,\n",
    "                        #token_type_ids=token_type_ids,\n",
    "                        labels=labels)\n",
    "        # extract loss\n",
    "        loss = outputs.loss\n",
    "        # calculate loss for every parameter that needs grad update\n",
    "        loss.backward()\n",
    "        # update parameters\n",
    "        optimizer.step()\n",
    "        # print relevant info to progress bar\n",
    "        train_losses.append(loss.item())\n",
    "        loop.set_description(f'Epoch {epoch}')\n",
    "        loop.set_postfix(loss=loss.item())\n",
    "\n",
    "\n",
    "        loop.set_description(f'Epoch {epoch}')\n",
    "        loop.set_postfix(loss=loss.item())\n",
    "\n",
    "# Testing loop\n",
    "model.eval()\n",
    "all_preds = []\n",
    "all_labels = []\n",
    "\n",
    "with torch.no_grad():\n",
    "    for batch in test_loader:\n",
    "        input_ids = batch['input_ids'].to(device)\n",
    "        #token_type_ids = batch['token_type_ids'].to(device)\n",
    "        attention_mask = batch['attention_mask'].to(device)\n",
    "        labels = batch['labels'].to(device)\n",
    "\n",
    "        outputs = model(input_ids, attention_mask=attention_mask)\n",
    "        logits = outputs.logits\n",
    "        preds = torch.argmax(logits, dim=2).cpu().numpy()\n",
    "\n",
    "        all_preds.extend(preds)\n",
    "        all_labels.extend(labels.cpu().numpy())\n",
    "\n",
    "# Calculate metrics\n",
    "all_labels_flat = np.concatenate(all_labels)\n",
    "all_preds_flat = np.concatenate(all_preds)\n",
    "\n",
    "# Filter out instances with label -100\n",
    "valid_indices = all_labels_flat != -100\n",
    "all_labels_filtered = all_labels_flat[valid_indices]\n",
    "all_preds_filtered = all_preds_flat[valid_indices]\n",
    "\n",
    "# Calculate metrics\n",
    "f1 = f1_score(all_labels_filtered, all_preds_filtered, average='micro',zero_division='warn' )\n",
    "classification_report_str = classification_report(all_labels_filtered, all_preds_filtered, target_names=labels_list)\n",
    "# Print or log the metrics\n",
    "print(f'Micro F1 Score: {f1}')\n",
    "print('Classification Report:')\n",
    "print(classification_report_str)\n",
    "\n",
    "with open('text_metrics_BETO.txt', 'w', encoding='utf-8') as f:\n",
    "    f.write(f'Micro F1 Score {f1}')\n",
    "    f.write(f'Classification Report for BETO NER:\\n{classification_report_str}')\n",
    "    f.close()"
   ]
  },
  {
   "cell_type": "code",
   "execution_count": 23,
   "metadata": {},
   "outputs": [
    {
     "data": {
      "image/png": "[encoded data removed]",
      "text/plain": [
       "<Figure size 1000x800 with 2 Axes>"
      ]
     },
     "metadata": {},
     "output_type": "display_data"
    },
    {
     "data": {
      "text/plain": [
       "<Figure size 640x480 with 0 Axes>"
      ]
     },
     "metadata": {},
     "output_type": "display_data"
    }
   ],
   "source": [
    "import numpy as np\n",
    "import seaborn as sns\n",
    "import matplotlib.pyplot as plt\n",
    "from sklearn.metrics import confusion_matrix\n",
    "conf_matrix = confusion_matrix(all_labels_filtered, all_preds_filtered)\n",
    "\n",
    "# Plot the confusion matrix using Seaborn heatmap\n",
    "labels_names = [ids_to_lables[label_id] for label_id in all_labels_filtered]\n",
    "preds_names = [ids_to_lables[label_id] for label_id in all_preds_filtered]\n",
    "\n",
    "# Compute confusion matrix\n",
    "conf_matrix = confusion_matrix(labels_names, preds_names, labels=list(ids_to_lables.values()))\n",
    "\n",
    "# Plot the confusion matrix using Seaborn heatmap\n",
    "plt.figure(figsize=(10, 8))\n",
    "sns.heatmap(conf_matrix, annot=True, fmt='d', cmap='Greens', xticklabels=list(ids_to_lables.values()), yticklabels=list(ids_to_lables.values()))\n",
    "plt.xlabel('Predicted Labels')\n",
    "plt.ylabel('True Labels')\n",
    "plt.title('Confusion Matrix Roberta base TL')\n",
    "plt.show()\n",
    "plt.savefig('Confusion Matrix Roberta base TL.png')"
   ]
  },
  {
   "cell_type": "code",
   "execution_count": 24,
   "metadata": {},
   "outputs": [
    {
     "data": {
      "image/png": "[encoded data removed]",
      "text/plain": [
       "<Figure size 1000x600 with 1 Axes>"
      ]
     },
     "metadata": {},
     "output_type": "display_data"
    },
    {
     "data": {
      "text/plain": [
       "<Figure size 640x480 with 0 Axes>"
      ]
     },
     "metadata": {},
     "output_type": "display_data"
    }
   ],
   "source": [
    "# Plot the training loss over epochs\n",
    "sns.set()\n",
    "plt.figure(figsize=(10, 6))\n",
    "sns.lineplot(x=range(1, len(train_losses) + 1), y=train_losses)\n",
    "plt.xlabel('Epoch')\n",
    "plt.ylabel('Training Loss')\n",
    "plt.title('Training Loss Over Epochs for Roberta base TL')\n",
    "plt.show()\n",
    "plt.savefig('Training Loss Over Epochs for Roberta base TL.png')"
   ]
  },
  {
   "cell_type": "code",
   "execution_count": 25,
   "metadata": {},
   "outputs": [],
   "source": [
    "model.save_pretrained('RoBERTa-base-cazalla-NER-Transfer-learning')"
   ]
  },
  {
   "cell_type": "markdown",
   "metadata": {},
   "source": [
    "## Fully Pretrainned"
   ]
  },
  {
   "cell_type": "code",
   "execution_count": 21,
   "metadata": {},
   "outputs": [
    {
     "data": {
      "text/plain": [
       "{'O': 0,\n",
       " 'B-persName': 1,\n",
       " 'I-persName': 2,\n",
       " 'B-date': 3,\n",
       " 'I-date': 4,\n",
       " 'B-placeName': 5,\n",
       " 'I-placeName': 6,\n",
       " 'B-orgName': 7,\n",
       " 'I-orgName': 8,\n",
       " 'B-rs': 9,\n",
       " 'I-rs': 10,\n",
       " 'B-term': 11,\n",
       " 'I-term': 12}"
      ]
     },
     "execution_count": 21,
     "metadata": {},
     "output_type": "execute_result"
    }
   ],
   "source": [
    "labels_to_ids"
   ]
  },
  {
   "cell_type": "code",
   "execution_count": 22,
   "metadata": {},
   "outputs": [
    {
     "name": "stderr",
     "output_type": "stream",
     "text": [
      "Some weights of RobertaForTokenClassification were not initialized from the model checkpoint at PlanTL-GOB-ES/roberta-base-bne and are newly initialized: ['classifier.bias', 'classifier.weight']\n",
      "You should probably TRAIN this model on a down-stream task to be able to use it for predictions and inference.\n"
     ]
    }
   ],
   "source": [
    "\n",
    "model =  RobertaForTokenClassification.from_pretrained(model_test_name, num_labels= len(labels_list),id2label=ids_to_lables, label2id=labels_to_ids)"
   ]
  },
  {
   "cell_type": "code",
   "execution_count": 23,
   "metadata": {},
   "outputs": [
    {
     "data": {
      "text/plain": [
       "================================================================================================================================================================\n",
       "Layer (type:depth-idx)                                       Input Shape               Output Shape              Param #                   Trainable\n",
       "================================================================================================================================================================\n",
       "RobertaForTokenClassification                                [1, 128]                  [1, 128, 13]              --                        True\n",
       "├─RobertaModel: 1-1                                          [1, 128]                  [1, 128, 768]             --                        True\n",
       "│    └─RobertaEmbeddings: 2-1                                --                        [1, 128, 768]             --                        True\n",
       "│    │    └─Embedding: 3-1                                   [1, 128]                  [1, 128, 768]             38,601,216                True\n",
       "│    │    └─Embedding: 3-2                                   [1, 128]                  [1, 128, 768]             768                       True\n",
       "│    │    └─Embedding: 3-3                                   [1, 128]                  [1, 128, 768]             394,752                   True\n",
       "│    │    └─LayerNorm: 3-4                                   [1, 128, 768]             [1, 128, 768]             1,536                     True\n",
       "│    │    └─Dropout: 3-5                                     [1, 128, 768]             [1, 128, 768]             --                        --\n",
       "│    └─RobertaEncoder: 2-2                                   [1, 128, 768]             [1, 128, 768]             --                        True\n",
       "│    │    └─ModuleList: 3-6                                  --                        --                        85,054,464                True\n",
       "├─Dropout: 1-2                                               [1, 128, 768]             [1, 128, 768]             --                        --\n",
       "├─Linear: 1-3                                                [1, 128, 768]             [1, 128, 13]              9,997                     True\n",
       "================================================================================================================================================================\n",
       "Total params: 124,062,733\n",
       "Trainable params: 124,062,733\n",
       "Non-trainable params: 0\n",
       "Total mult-adds (M): 124.06\n",
       "================================================================================================================================================================\n",
       "Input size (MB): 0.00\n",
       "Forward/backward pass size (MB): 106.97\n",
       "Params size (MB): 496.25\n",
       "Estimated Total Size (MB): 603.22\n",
       "================================================================================================================================================================"
      ]
     },
     "execution_count": 23,
     "metadata": {},
     "output_type": "execute_result"
    }
   ],
   "source": [
    "input_ids = torch.randint(0, model.config.vocab_size, (1, 128))\n",
    "attention_mask = torch.ones((1, 128))\n",
    "\n",
    "        # Get the model summary\n",
    "summary(model,\n",
    "            input_data=input_ids,\n",
    "                       col_names=[\"input_size\", \"output_size\", \"num_params\", \"trainable\"],\n",
    "                       )"
   ]
  },
  {
   "cell_type": "code",
   "execution_count": 24,
   "metadata": {},
   "outputs": [],
   "source": [
    "import torch\n",
    "\n",
    "class baseDataset(torch.utils.data.Dataset):\n",
    "    def __init__(self, encodings):\n",
    "        self.encodings = encodings\n",
    "    \n",
    "    def __getitem__(self, idx):\n",
    "        if idx < 0 or idx >= len(self.encodings['input_ids']):\n",
    "            raise IndexError(f\"Index {idx} is out of bounds for dimension 0 with size {len(self.encodings['input_ids'])}\")\n",
    "        return {key: val[idx].clone().detach() for key, val in self.encodings.items()}\n",
    "    \n",
    "    def __len__(self):\n",
    "        return len(self.encodings['input_ids'])\n"
   ]
  },
  {
   "cell_type": "code",
   "execution_count": 25,
   "metadata": {},
   "outputs": [],
   "source": [
    "dataset_train= baseDataset(tokenized_inputs_train)\n",
    "dataset_test =baseDataset(tokenized_inputs_test)\n",
    "train_loader = torch.utils.data.DataLoader(dataset_train, batch_size=32, shuffle=True)\n",
    "test_loader = torch.utils.data.DataLoader(dataset_test, batch_size=24, shuffle=True)"
   ]
  },
  {
   "cell_type": "code",
   "execution_count": 26,
   "metadata": {},
   "outputs": [],
   "source": [
    "optimizer= torch.optim.AdamW(model.parameters(), lr=5e-5)"
   ]
  },
  {
   "cell_type": "code",
   "execution_count": 27,
   "metadata": {},
   "outputs": [
    {
     "data": {
      "text/plain": [
       "'cuda'"
      ]
     },
     "execution_count": 27,
     "metadata": {},
     "output_type": "execute_result"
    }
   ],
   "source": [
    "device ='cuda' if torch.cuda.is_available() else 'cpu'\n",
    "device"
   ]
  },
  {
   "cell_type": "code",
   "execution_count": 28,
   "metadata": {},
   "outputs": [
    {
     "data": {
      "text/plain": [
       "RobertaForTokenClassification(\n",
       "  (roberta): RobertaModel(\n",
       "    (embeddings): RobertaEmbeddings(\n",
       "      (word_embeddings): Embedding(50262, 768, padding_idx=1)\n",
       "      (position_embeddings): Embedding(514, 768, padding_idx=1)\n",
       "      (token_type_embeddings): Embedding(1, 768)\n",
       "      (LayerNorm): LayerNorm((768,), eps=1e-05, elementwise_affine=True)\n",
       "      (dropout): Dropout(p=0.0, inplace=False)\n",
       "    )\n",
       "    (encoder): RobertaEncoder(\n",
       "      (layer): ModuleList(\n",
       "        (0-11): 12 x RobertaLayer(\n",
       "          (attention): RobertaAttention(\n",
       "            (self): RobertaSelfAttention(\n",
       "              (query): Linear(in_features=768, out_features=768, bias=True)\n",
       "              (key): Linear(in_features=768, out_features=768, bias=True)\n",
       "              (value): Linear(in_features=768, out_features=768, bias=True)\n",
       "              (dropout): Dropout(p=0.0, inplace=False)\n",
       "            )\n",
       "            (output): RobertaSelfOutput(\n",
       "              (dense): Linear(in_features=768, out_features=768, bias=True)\n",
       "              (LayerNorm): LayerNorm((768,), eps=1e-05, elementwise_affine=True)\n",
       "              (dropout): Dropout(p=0.0, inplace=False)\n",
       "            )\n",
       "          )\n",
       "          (intermediate): RobertaIntermediate(\n",
       "            (dense): Linear(in_features=768, out_features=3072, bias=True)\n",
       "            (intermediate_act_fn): GELUActivation()\n",
       "          )\n",
       "          (output): RobertaOutput(\n",
       "            (dense): Linear(in_features=3072, out_features=768, bias=True)\n",
       "            (LayerNorm): LayerNorm((768,), eps=1e-05, elementwise_affine=True)\n",
       "            (dropout): Dropout(p=0.0, inplace=False)\n",
       "          )\n",
       "        )\n",
       "      )\n",
       "    )\n",
       "  )\n",
       "  (dropout): Dropout(p=0.0, inplace=False)\n",
       "  (classifier): Linear(in_features=768, out_features=13, bias=True)\n",
       ")"
      ]
     },
     "execution_count": 28,
     "metadata": {},
     "output_type": "execute_result"
    }
   ],
   "source": [
    "model.to(device)\n",
    "model.train()"
   ]
  },
  {
   "cell_type": "code",
   "execution_count": 29,
   "metadata": {},
   "outputs": [
    {
     "data": {
      "application/vnd.jupyter.widget-view+json": {
       "model_id": "98d8619f2f2b404aba219fdfc72b82a2",
       "version_major": 2,
       "version_minor": 0
      },
      "text/plain": [
       "  0%|          | 0/62 [00:00<?, ?it/s]"
      ]
     },
     "metadata": {},
     "output_type": "display_data"
    },
    {
     "data": {
      "application/vnd.jupyter.widget-view+json": {
       "model_id": "7c0a3fe4862048c3b5c53d619a8539e7",
       "version_major": 2,
       "version_minor": 0
      },
      "text/plain": [
       "  0%|          | 0/62 [00:00<?, ?it/s]"
      ]
     },
     "metadata": {},
     "output_type": "display_data"
    },
    {
     "data": {
      "application/vnd.jupyter.widget-view+json": {
       "model_id": "17b8b8c391164cce8ef61782e33662d1",
       "version_major": 2,
       "version_minor": 0
      },
      "text/plain": [
       "  0%|          | 0/62 [00:00<?, ?it/s]"
      ]
     },
     "metadata": {},
     "output_type": "display_data"
    },
    {
     "name": "stdout",
     "output_type": "stream",
     "text": [
      "Micro F1 Score: 0.9754549873089593\n",
      "Classification Report:\n",
      "              precision    recall  f1-score   support\n",
      "\n",
      "           O       0.99      0.99      0.99     29428\n",
      "  B-persName       0.96      0.94      0.95      1020\n",
      "  I-persName       0.96      0.98      0.97      1413\n",
      "      B-date       0.91      0.70      0.79        56\n",
      "      I-date       0.94      0.99      0.96       481\n",
      " B-placeName       0.92      0.94      0.93       235\n",
      " I-placeName       0.96      0.43      0.59        63\n",
      "   B-orgName       0.87      0.80      0.83       124\n",
      "   I-orgName       0.89      0.86      0.87       175\n",
      "        B-rs       0.89      0.95      0.92      1100\n",
      "        I-rs       0.94      0.93      0.93       907\n",
      "      B-term       0.96      0.91      0.93      1781\n",
      "      I-term       0.76      0.46      0.57       251\n",
      "\n",
      "    accuracy                           0.98     37034\n",
      "   macro avg       0.92      0.84      0.86     37034\n",
      "weighted avg       0.97      0.98      0.97     37034\n",
      "\n"
     ]
    }
   ],
   "source": [
    "from tqdm.notebook import tqdm\n",
    "epochs = 3\n",
    "train_losses = []\n",
    "model.to(device)\n",
    "for epoch in range(epochs):\n",
    "    # setup loop with TQDM and dataloader\n",
    "    loop = tqdm(train_loader, leave=True)\n",
    "    for batch in loop:\n",
    "        # initialize calculated gradients (from prev step)\n",
    "        optimizer.zero_grad()\n",
    "        # pull all tensor batches required for training\n",
    "        input_ids = batch['input_ids'].to(device)\n",
    "        #token_type_ids = batch['token_type_ids'].to(device)\n",
    "        attention_mask = batch['attention_mask'].to(device)\n",
    "        labels = batch['labels'].to(device)\n",
    "        # process\n",
    "        outputs = model(input_ids,\n",
    "                        attention_mask=attention_mask,\n",
    "                        #token_type_ids=token_type_ids,\n",
    "                        labels=labels)\n",
    "        # extract loss\n",
    "        loss = outputs.loss\n",
    "        # calculate loss for every parameter that needs grad update\n",
    "        loss.backward()\n",
    "        # update parameters\n",
    "        optimizer.step()\n",
    "        # print relevant info to progress bar\n",
    "        train_losses.append(loss.item())\n",
    "        loop.set_description(f'Epoch {epoch}')\n",
    "        loop.set_postfix(loss=loss.item())\n",
    "\n",
    "\n",
    "        loop.set_description(f'Epoch {epoch}')\n",
    "        loop.set_postfix(loss=loss.item())\n",
    "\n",
    "# Testing loop\n",
    "model.eval()\n",
    "all_preds = []\n",
    "all_labels = []\n",
    "\n",
    "with torch.no_grad():\n",
    "    for batch in test_loader:\n",
    "        input_ids = batch['input_ids'].to(device)\n",
    "        #token_type_ids = batch['token_type_ids'].to(device)\n",
    "        attention_mask = batch['attention_mask'].to(device)\n",
    "        labels = batch['labels'].to(device)\n",
    "\n",
    "        outputs = model(input_ids, attention_mask=attention_mask)\n",
    "        logits = outputs.logits\n",
    "        preds = torch.argmax(logits, dim=2).cpu().numpy()\n",
    "\n",
    "        all_preds.extend(preds)\n",
    "        all_labels.extend(labels.cpu().numpy())\n",
    "\n",
    "# Calculate metrics\n",
    "all_labels_flat = np.concatenate(all_labels)\n",
    "all_preds_flat = np.concatenate(all_preds)\n",
    "\n",
    "# Filter out instances with label -100\n",
    "valid_indices = all_labels_flat != -100\n",
    "all_labels_filtered = all_labels_flat[valid_indices]\n",
    "all_preds_filtered = all_preds_flat[valid_indices]\n",
    "\n",
    "# Calculate metrics\n",
    "f1 = f1_score(all_labels_filtered, all_preds_filtered, average='micro',zero_division='warn' )\n",
    "classification_report_str = classification_report(all_labels_filtered, all_preds_filtered, target_names=labels_list)\n",
    "# Print or log the metrics\n",
    "print(f'Micro F1 Score: {f1}')\n",
    "print('Classification Report:')\n",
    "print(classification_report_str)\n",
    "\n",
    "with open('text_metrics_Roberta Base FULL.txt', 'w', encoding='utf-8') as f:\n",
    "    f.write(f'Micro F1 Score {f1}')\n",
    "    f.write(f'Classification Report for Roberta Base FULL NER:\\n{classification_report_str}')\n",
    "    f.close()"
   ]
  },
  {
   "cell_type": "code",
   "execution_count": 30,
   "metadata": {},
   "outputs": [
    {
     "data": {
      "image/png": "[encoded data removed]",
      "text/plain": [
       "<Figure size 1000x800 with 2 Axes>"
      ]
     },
     "metadata": {},
     "output_type": "display_data"
    },
    {
     "data": {
      "text/plain": [
       "<Figure size 640x480 with 0 Axes>"
      ]
     },
     "metadata": {},
     "output_type": "display_data"
    }
   ],
   "source": [
    "import numpy as np\n",
    "import seaborn as sns\n",
    "import matplotlib.pyplot as plt\n",
    "from sklearn.metrics import confusion_matrix\n",
    "conf_matrix = confusion_matrix(all_labels_filtered, all_preds_filtered)\n",
    "\n",
    "# Plot the confusion matrix using Seaborn heatmap\n",
    "labels_names = [ids_to_lables[label_id] for label_id in all_labels_filtered]\n",
    "preds_names = [ids_to_lables[label_id] for label_id in all_preds_filtered]\n",
    "\n",
    "# Compute confusion matrix\n",
    "conf_matrix = confusion_matrix(labels_names, preds_names, labels=list(ids_to_lables.values()))\n",
    "\n",
    "# Plot the confusion matrix using Seaborn heatmap\n",
    "plt.figure(figsize=(10, 8))\n",
    "sns.heatmap(conf_matrix, annot=True, fmt='d', cmap='Greens', xticklabels=list(ids_to_lables.values()), yticklabels=list(ids_to_lables.values()))\n",
    "plt.xlabel('Predicted Labels')\n",
    "plt.ylabel('True Labels')\n",
    "plt.title('Confusion Matrix Roberta base FULL')\n",
    "plt.show()\n",
    "plt.savefig('Confusion Matrix Roberta base FULL.png')"
   ]
  },
  {
   "cell_type": "code",
   "execution_count": 31,
   "metadata": {},
   "outputs": [
    {
     "data": {
      "image/png": "[encoded data removed]",
      "text/plain": [
       "<Figure size 1000x600 with 1 Axes>"
      ]
     },
     "metadata": {},
     "output_type": "display_data"
    },
    {
     "data": {
      "text/plain": [
       "<Figure size 640x480 with 0 Axes>"
      ]
     },
     "metadata": {},
     "output_type": "display_data"
    }
   ],
   "source": [
    "# Plot the training loss over epochs\n",
    "sns.set()\n",
    "plt.figure(figsize=(10, 6))\n",
    "sns.lineplot(x=range(1, len(train_losses) + 1), y=train_losses)\n",
    "plt.xlabel('Epoch')\n",
    "plt.ylabel('Training Loss')\n",
    "plt.title('Training Loss Over Epochs for Roberta base FULL')\n",
    "plt.show()\n",
    "plt.savefig('Training Loss Over Epochs for Roberta base FULL.png');"
   ]
  },
  {
   "cell_type": "code",
   "execution_count": 32,
   "metadata": {},
   "outputs": [],
   "source": [
    "model.save_pretrained('RoBERTa-Base-cazalla-NER-Fully')"
   ]
  },
  {
   "cell_type": "code",
   "execution_count": 33,
   "metadata": {},
   "outputs": [],
   "source": [
    "model_test_name = '/home/tensorboard/Documentos/D4R/3. NER/RoBERTa-Base-cazalla-NER-Fully'\n",
    "model = RobertaForTokenClassification.from_pretrained(model_test_name)\n"
   ]
  },
  {
   "cell_type": "code",
   "execution_count": null,
   "metadata": {},
   "outputs": [],
   "source": []
  }
 ],
 "metadata": {
  "kernelspec": {
   "display_name": ".venv",
   "language": "python",
   "name": "python3"
  },
  "language_info": {
   "codemirror_mode": {
    "name": "ipython",
    "version": 3
   },
   "file_extension": ".py",
   "mimetype": "text/x-python",
   "name": "python",
   "nbconvert_exporter": "python",
   "pygments_lexer": "ipython3",
   "version": "3.10.12"
  }
 },
 "nbformat": 4,
 "nbformat_minor": 2
}
